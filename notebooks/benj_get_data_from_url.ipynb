{
 "cells": [
  {
   "cell_type": "code",
   "execution_count": 12,
   "metadata": {},
   "outputs": [
    {
     "name": "stdout",
     "output_type": "stream",
     "text": [
      "Collecting Pillow\n",
      "  Downloading pillow-11.0.0-cp310-cp310-macosx_11_0_arm64.whl (3.0 MB)\n",
      "\u001b[2K     \u001b[90m━━━━━━━━━━━━━━━━━━━━━━━━━━━━━━━━━━━━━━━━\u001b[0m \u001b[32m3.0/3.0 MB\u001b[0m \u001b[31m3.9 MB/s\u001b[0m eta \u001b[36m0:00:00\u001b[0m00:01\u001b[0m00:01\u001b[0m\n",
      "\u001b[?25hInstalling collected packages: Pillow\n",
      "Successfully installed Pillow-11.0.0\n",
      "\n",
      "\u001b[1m[\u001b[0m\u001b[34;49mnotice\u001b[0m\u001b[1;39;49m]\u001b[0m\u001b[39;49m A new release of pip available: \u001b[0m\u001b[31;49m22.2.1\u001b[0m\u001b[39;49m -> \u001b[0m\u001b[32;49m24.3.1\u001b[0m\n",
      "\u001b[1m[\u001b[0m\u001b[34;49mnotice\u001b[0m\u001b[1;39;49m]\u001b[0m\u001b[39;49m To update, run: \u001b[0m\u001b[32;49mpip install --upgrade pip\u001b[0m\n"
     ]
    }
   ],
   "source": [
    "!pip install Pillow"
   ]
  },
  {
   "cell_type": "code",
   "execution_count": 11,
   "metadata": {},
   "outputs": [
    {
     "name": "stdout",
     "output_type": "stream",
     "text": [
      "Requirement already satisfied: bs4 in /Users/user/.pyenv/versions/3.10.6/lib/python3.10/site-packages (0.0.2)\n",
      "Requirement already satisfied: beautifulsoup4 in /Users/user/.pyenv/versions/3.10.6/lib/python3.10/site-packages (from bs4) (4.12.3)\n",
      "Requirement already satisfied: soupsieve>1.2 in /Users/user/.pyenv/versions/3.10.6/lib/python3.10/site-packages (from beautifulsoup4->bs4) (2.6)\n",
      "\n",
      "\u001b[1m[\u001b[0m\u001b[34;49mnotice\u001b[0m\u001b[1;39;49m]\u001b[0m\u001b[39;49m A new release of pip available: \u001b[0m\u001b[31;49m22.2.1\u001b[0m\u001b[39;49m -> \u001b[0m\u001b[32;49m24.3.1\u001b[0m\n",
      "\u001b[1m[\u001b[0m\u001b[34;49mnotice\u001b[0m\u001b[1;39;49m]\u001b[0m\u001b[39;49m To update, run: \u001b[0m\u001b[32;49mpip install --upgrade pip\u001b[0m\n"
     ]
    }
   ],
   "source": [
    "!pip install bs4"
   ]
  },
  {
   "cell_type": "code",
   "execution_count": 15,
   "metadata": {},
   "outputs": [],
   "source": [
    "import requests\n",
    "from bs4 import BeautifulSoup\n",
    "from PIL import Image\n",
    "from io import BytesIO"
   ]
  },
  {
   "cell_type": "code",
   "execution_count": 16,
   "metadata": {},
   "outputs": [],
   "source": [
    "def get_images_from_url(url):\n",
    "    # Récupérer le contenu de la page\n",
    "    response = requests.get(url)\n",
    "    soup = BeautifulSoup(response.text, 'html.parser')\n",
    "    \n",
    "    # Extraire les URLs d'images\n",
    "    img_urls = []\n",
    "    for img in soup.find_all('img'):\n",
    "        img_url = img.get('src')\n",
    "        if img_url:\n",
    "            # Si le lien est relatif, le convertir en lien absolu\n",
    "            if not img_url.startswith('http'):\n",
    "                img_url = requests.compat.urljoin(url, img_url)\n",
    "            img_urls.append(img_url)\n",
    "    return img_urls"
   ]
  },
  {
   "cell_type": "code",
   "execution_count": 17,
   "metadata": {},
   "outputs": [
    {
     "data": {
      "text/plain": [
       "['https://www.radiomeuh.com/img/logoRadioMeuh-light.svg',\n",
       " 'https://www.radiomeuh.com/img/cover_placeholder.png',\n",
       " 'https://www.radiomeuh.com/img/temporary/banner_dur_meuh.jpg',\n",
       " 'https://www.radiomeuh.com/images/01e1403f-e07c-44ee-a601-6cf0ea76b7dd/892efa36-d997-403f-8f67-96df6d56c1f3.jpg?fm=jpg&q=80&fit=crop-center&crop=720%2C1200%2C0%2C0&h=500&w=500',\n",
       " 'https://www.radiomeuh.com/images/73d45da9-6abd-4301-bfff-123416bb7dbf/1080x1080px-insta-plan-de-travail-1-2.png?fm=jpg&q=80&fit=crop-center&crop=1080%2C1080%2C0%2C0&h=500&w=500',\n",
       " 'https://www.radiomeuh.com/images/cda5f5ca-5f28-4942-a5c2-95aee1338e3d/en-tete-publication-instagram.png?fm=jpg&q=80&fit=crop-center&crop=1080%2C1080%2C0%2C0&h=500&w=500',\n",
       " 'https://www.radiomeuh.com/images/abffcc33-2d13-4921-9d75-f3b37f7078d0/philfuriemix.jpg?fm=jpg&q=80&fit=crop-center&crop=1179%2C1520%2C0%2C0&h=500&w=500',\n",
       " 'https://www.radiomeuh.com/images/cbf08e09-0856-40c9-96d7-94944070c337/ahu-kelesoglu-1-on-your-feat.png?fm=jpg&q=80&fit=crop-center&crop=1080%2C1080%2C0%2C0&h=500&w=500',\n",
       " 'https://www.radiomeuh.com/images/48b22ae0-0645-4c0b-b640-f1cf4f76a644/peter-matson-1-on-your-feat.png?fm=jpg&q=80&fit=crop-center&crop=1080%2C1080%2C0%2C0&h=500&w=500',\n",
       " 'https://www.radiomeuh.com/images/aee694fd-0963-4b92-8b08-cdd4edfa4076/438144966-986478996372328-6148136237941833003-n.jpg?fm=jpg&q=80&fit=crop-center&crop=1080%2C1080%2C0%2C0&h=500&w=500',\n",
       " 'https://www.radiomeuh.com/images/4a47352b-7474-4804-b444-4d61dbcc549c/sakifo-2024.jpeg?fm=jpg&q=80&fit=crop-center&crop=1080%2C1350%2C0%2C0&h=500&w=500',\n",
       " 'https://www.radiomeuh.com/images/1c3613dc-5460-4f5b-b028-c0fb160a92fe/julien-lebrun-copy-1-on-your-feat.png?fm=jpg&q=80&fit=crop-center&crop=1080%2C1080%2C0%2C0&h=500&w=500',\n",
       " 'https://www.radiomeuh.com/images/268143a5-bcd9-45d9-a87b-e4f601b8a5b6/julien-lebrun-1-on-your-feat.png?fm=jpg&q=80&fit=crop-center&crop=1080%2C1080%2C0%2C0&h=500&w=500',\n",
       " 'https://www.radiomeuh.com/images/7790d397-d8dc-40ed-95fd-d21bb34dd94d/sonido-tupinamba-copy-1-1-on-your-feat.png?fm=jpg&q=80&fit=crop-center&crop=1080%2C1080%2C0%2C0&h=500&w=500',\n",
       " 'https://www.radiomeuh.com/images/00f80190-e18f-4585-938c-1f317d784a77/sonido-tupinamba-copy-1-on-your-feat.png?fm=jpg&q=80&fit=crop-center&crop=1080%2C1080%2C0%2C0&h=500&w=500',\n",
       " 'https://www.radiomeuh.com/images/152ca544-24ee-429e-a3cd-7c2c640d1e78/sonido-tupinamba-1-on-your-feat.png?fm=jpg&q=80&fit=crop-center&crop=1080%2C1080%2C0%2C0&h=500&w=500',\n",
       " 'https://www.radiomeuh.com/images/fc3acd06-4b88-4065-8840-6c2b0d528d79/doctor-flake-1-on-your-feat.png?fm=jpg&q=80&fit=crop-center&crop=1080%2C1080%2C0%2C0&h=500&w=500',\n",
       " 'https://www.radiomeuh.com/images/1e59d3c6-e47d-478b-a557-dc76a92f41a3/mangabey-1-on-your-feat.png?fm=jpg&q=80&fit=crop-center&crop=1080%2C1080%2C0%2C0&h=500&w=500',\n",
       " 'https://www.radiomeuh.com/images/9ae4157b-a8b1-4481-9082-8f781ba95dae/article-circus24-950x450.jpg?fm=jpg&q=80&fit=crop-center&crop=1979%2C938%2C0%2C0&h=500&w=1030',\n",
       " 'https://www.radiomeuh.com/images/1334018c-05a7-46cb-b77d-77cef8701e31/mabish-1-on-your-feat.png?fm=jpg&q=80&fit=crop-center&crop=1080%2C1080%2C0%2C0&h=500&w=500',\n",
       " 'https://www.radiomeuh.com/images/cfc54790-198c-4f0c-ae4c-f958a738551c/mel-c-1-on-your-feat.png?fm=jpg&q=80&fit=crop-center&crop=1080%2C1080%2C0%2C0&h=500&w=500',\n",
       " 'https://www.radiomeuh.com/images/dbf431a8-028d-4cc3-a1db-0caa5cf24d8f/laurent-garnier-2-on-your-feat.png?fm=jpg&q=80&fit=crop-center&crop=1080%2C1080%2C0%2C0&h=500&w=500',\n",
       " 'https://www.radiomeuh.com/images/6ea15be5-c8ff-4cf0-8a9c-e77b8090371b/saborami-on-your-feat17.png?fm=jpg&q=80&fit=crop-center&crop=1080%2C1080%2C0%2C0&h=500&w=500',\n",
       " 'https://www.radiomeuh.com/images/ec1f71f3-2b98-4bee-b59f-7993a161325f/tatie-dee-1-on-your-feat.png?fm=jpg&q=80&fit=crop-center&crop=1080%2C1080%2C0%2C0&h=500&w=500',\n",
       " 'https://www.radiomeuh.com/images/1be1e2bb-eafa-4e33-9e03-04d1e0ee4fc8/428341803-2572013826299181-4920299773257077657-n.jpg?fm=jpg&q=80&fit=crop-center&crop=800%2C1000%2C0%2C0&h=500&w=500',\n",
       " 'https://www.radiomeuh.com/images/f828d24b-a258-452d-bac8-2770b8580532/pierre-wax-1-on-your-feat.png?fm=jpg&q=80&fit=crop-center&crop=1080%2C1080%2C0%2C0&h=500&w=500',\n",
       " 'https://www.radiomeuh.com/images/6028af76-a56d-40a3-8abf-06be6be6bbde/diogo-strausz-1-on-your-feat.png?fm=jpg&q=80&fit=crop-center&crop=1080%2C1080%2C0%2C0&h=500&w=500',\n",
       " 'https://www.radiomeuh.com/images/1806726b-ca8e-48b9-839c-5bff275ed6b1/419873934-391689346698310-7483963764268617616-n.jpg?fm=jpg&q=80&fit=crop-center&crop=1920%2C1080%2C0%2C0&h=500&w=1030',\n",
       " 'https://www.radiomeuh.com/images/db1e3192-9e32-4fd2-8bd0-a0795d1ad172/eg-1-on-your-feat.png?fm=jpg&q=80&fit=crop-center&crop=1080%2C1080%2C0%2C0&h=500&w=500',\n",
       " 'https://www.radiomeuh.com/images/2add2132-6366-40ac-86d7-3e551ba82874/mary-g-1-on-your-feat.png?fm=jpg&q=80&fit=crop-center&crop=1080%2C1080%2C0%2C0&h=500&w=500',\n",
       " 'https://www.radiomeuh.com/images/31e53dbb-7f91-4253-abdc-b0f825447a98/el-gato-negro-1-on-your-feat.png?fm=jpg&q=80&fit=crop-center&crop=1080%2C1080%2C0%2C0&h=500&w=500',\n",
       " 'https://www.radiomeuh.com/images/1903311d-ea29-4d11-bd1c-a15251c8774b/a-pringle-1-on-your-feat.png?fm=jpg&q=80&fit=crop-center&crop=1080%2C1080%2C0%2C0&h=500&w=500',\n",
       " 'https://www.radiomeuh.com/images/2bbef489-4d8f-456d-bb50-3583c7486ab4/circuspartylcz-242.jpg?fm=jpg&q=80&fit=crop-center&crop=2500%2C1308%2C0%2C0&h=500&w=1030',\n",
       " 'https://www.radiomeuh.com/images/9965bb92-53da-4de4-b081-3d822671ad74/davidwaltersdj.jpg?fm=jpg&q=80&fit=crop-center&crop=1080%2C1080%2C0%2C0&h=500&w=500',\n",
       " 'https://www.radiomeuh.com/images/ce4105e6-7010-44b0-ad69-baa736c61da5/loulou-ferrari-1-on-your-feat.png?fm=jpg&q=80&fit=crop-center&crop=1080%2C1080%2C0%2C0&h=500&w=500',\n",
       " 'https://www.radiomeuh.com/images/fbdb617b-0241-4df8-a2a1-87181e1f7355/saint-sylvestre-1.jpg?fm=jpg&q=80&fit=crop-center&crop=1080%2C1080%2C0%2C0&h=500&w=500',\n",
       " 'https://www.radiomeuh.com/images/898f9a82-b78b-47ed-a337-36cb993b6aea/alex-from-tokyo-1-on-your-feat.png?fm=jpg&q=80&fit=crop-center&crop=1080%2C1080%2C0%2C0&h=500&w=500',\n",
       " 'https://www.radiomeuh.com/images/961fa88e-f20d-4d9d-92a9-ce7b26811d7b/souleance-1-on-your-feat.png?fm=jpg&q=80&fit=crop-center&crop=1080%2C1080%2C0%2C0&h=500&w=500',\n",
       " 'https://www.radiomeuh.com/images/27b04e5c-66bb-482c-99d2-9f979d21de71/chicas-buarque-1-on-your-feat.png?fm=jpg&q=80&fit=crop-center&crop=1080%2C1080%2C0%2C0&h=500&w=500',\n",
       " 'https://www.radiomeuh.com/images/ee931623-7a27-4a47-af84-37ac7376e8e1/v4ys-1-on-your-feat.png?fm=jpg&q=80&fit=crop-center&crop=1080%2C1080%2C0%2C0&h=500&w=500',\n",
       " 'https://www.radiomeuh.com/images/ff81f73d-7e69-4cf7-9e0a-ba6a0a2a81dd/if3-closing-carre.png?fm=jpg&q=80&fit=crop-center&crop=1080%2C1080%2C0%2C0&h=500&w=500',\n",
       " 'https://www.radiomeuh.com/images/1d0d81e0-675a-443a-8e2a-1ccc29aceb6e/409931881-843227534469307-3171225296801060571-n.jpg?fm=jpg&q=80&fit=crop-center&crop=1921%2C1081%2C0%2C0&h=500&w=1030',\n",
       " 'https://www.radiomeuh.com/images/825fe3bd-1d51-40da-826c-27a789c6bc0d/shady-lady-1-on-your-feat.png?fm=jpg&q=80&fit=crop-center&crop=1080%2C1080%2C0%2C0&h=500&w=500',\n",
       " 'https://www.radiomeuh.com/images/bec72e7d-bfe0-4308-9b14-d5a60d0ee1b1/gones-1-on-your-feat.png?fm=jpg&q=80&fit=crop-center&crop=1080%2C1080%2C0%2C0&h=500&w=500',\n",
       " 'https://www.radiomeuh.com/images/49378358-c890-439a-a708-bd18275b79cb/jimena-angel-1-on-your-feat-2.png?fm=jpg&q=80&fit=crop-center&crop=1080%2C1080%2C0%2C0&h=500&w=500',\n",
       " 'https://www.radiomeuh.com/images/a29f1c70-8d0d-42db-b942-5270e8de5aec/rdm-oyf-1-1-on-your-feat-3.png?fm=jpg&q=80&fit=crop-center&crop=1080%2C1080%2C0%2C0&h=500&w=500',\n",
       " 'https://www.radiomeuh.com/images/dd96b1e6-1137-4dcb-8b88-f70e42ef8a27/cdp2023-phil.jpg?fm=jpg&q=80&fit=crop-center&crop=1080%2C1080%2C0%2C0&h=500&w=500',\n",
       " 'https://www.radiomeuh.com/images/7c85fb7a-7127-4b9c-b208-8ed49dcf3eef/design-sans-titre-6.png?fm=jpg&q=80&fit=crop-center&crop=2048%2C1152%2C0%2C0&h=500&w=1030',\n",
       " 'https://www.radiomeuh.com/images/bccd2055-fe01-4922-9eb8-b734ede054f9/dw2.jpg?fm=jpg&q=80&fit=crop-center&crop=1080%2C1080%2C0%2C0&h=500&w=500',\n",
       " 'https://www.radiomeuh.com/images/be338ff2-f049-4f38-a5ca-1faa1050ff8a/rmcf-square.jpg?fm=jpg&q=80&fit=crop-center&crop=4500%2C4500%2C0%2C0&h=500&w=500',\n",
       " 'https://www.radiomeuh.com/images/f851b42c-41af-4d35-a09c-efbffcd6c98f/lc23-cdp-2000.jpg?fm=jpg&q=80&fit=crop-center&crop=1500%2C1500%2C0%2C0&h=500&w=500',\n",
       " 'https://www.radiomeuh.com/images/ce5cebca-7b66-424c-8fdd-7890a2fda96d/doctor-flake.jpg?fm=jpg&q=80&fit=crop-center&crop=1080%2C1080%2C0%2C0&h=500&w=500',\n",
       " 'https://www.radiomeuh.com/images/51c166fe-bab4-4bd9-81de-d546e6b0cf55/le-champ-de-platines-kornelia-square.jpg?fm=jpg&q=80&fit=crop-center&crop=1080%2C1080%2C0%2C0&h=500&w=500',\n",
       " 'https://www.radiomeuh.com/images/d8dff8ec-f098-4c5b-8ac0-47c795235241/ccfc0e3a-03d0-4177-b430-56928cdcccf9.jpg?fm=jpg&q=80&fit=crop-center&crop=999%2C999%2C0%2C0&h=500&w=500',\n",
       " 'https://www.radiomeuh.com/images/90df9f47-5fa7-4a1a-95e4-81cbba239d73/radio-meuh-party.png?fm=jpg&q=80&fit=crop-center&crop=1400%2C1400%2C0%2C0&h=500&w=500',\n",
       " 'https://www.radiomeuh.com/images/3899effa-d40d-484e-a2a8-a83b13128b38/343312648-181187371492591-1343288746683997072-n.jpg?fm=jpg&q=80&fit=crop-center&crop=2048%2C1152%2C0%2C0&h=500&w=1030',\n",
       " 'https://www.radiomeuh.com/images/55b0e507-6c10-489c-8da7-88141fab3de2/ezrapdf-1.jpg?fm=jpg&q=80&fit=crop-center&crop=2000%2C2000%2C0%2C0&h=500&w=500',\n",
       " 'https://www.radiomeuh.com/images/37500f45-9d20-49b5-9bbf-5d71c0bb3cad/pochette-surprise-carre.jpg?fm=jpg&q=80&fit=crop-center&crop=3467%2C3472%2C0%2C0&h=500&w=500',\n",
       " 'https://www.radiomeuh.com/images/9c1d57fe-6c89-4cb9-b07a-1574c894711b/mystic-voyage-23-keep-it-up.jpg?fm=jpg&q=80&fit=crop-center&crop=1667%2C1667%2C0%2C0&h=500&w=500',\n",
       " 'https://www.radiomeuh.com/images/064b0611-1200-4732-b98e-732b000a825d/wtf-radio-meuh-mix36-carre-rs.png?fm=jpg&q=80&fit=crop-center&crop=1680%2C1680%2C0%2C0&h=500&w=500',\n",
       " 'https://www.radiomeuh.com/images/47f03b66-e17e-47ae-98de-908161d24872/prosper-show-on-radio-meuh-22.png?fm=jpg&q=80&fit=crop-center&crop=688%2C681%2C0%2C0&h=500&w=500',\n",
       " 'https://www.radiomeuh.com/images/9bc0513a-c420-49cc-97c5-fd21c0551299/fym-78.jpeg?fm=jpg&q=80&fit=crop-center&crop=960%2C960%2C0%2C0&h=500&w=500',\n",
       " 'https://www.radiomeuh.com/images/34194db2-5402-4504-98a6-3a2d3a49cfc0/img-3093.jpeg?fm=jpg&q=80&fit=crop-center&crop=470%2C470%2C0%2C0&h=500&w=500',\n",
       " 'https://www.radiomeuh.com/img/logoRadioMeuh-light.svg',\n",
       " 'https://www.facebook.com/tr?id=416966589295225&ev=PageView&noscript=1']"
      ]
     },
     "execution_count": 17,
     "metadata": {},
     "output_type": "execute_result"
    }
   ],
   "source": [
    "get_images_from_url(\"https://www.radiomeuh.com/\")"
   ]
  },
  {
   "cell_type": "code",
   "execution_count": null,
   "metadata": {},
   "outputs": [],
   "source": []
  }
 ],
 "metadata": {
  "kernelspec": {
   "display_name": "Python 3",
   "language": "python",
   "name": "python3"
  },
  "language_info": {
   "codemirror_mode": {
    "name": "ipython",
    "version": 3
   },
   "file_extension": ".py",
   "mimetype": "text/x-python",
   "name": "python",
   "nbconvert_exporter": "python",
   "pygments_lexer": "ipython3",
   "version": "3.10.6"
  }
 },
 "nbformat": 4,
 "nbformat_minor": 2
}
